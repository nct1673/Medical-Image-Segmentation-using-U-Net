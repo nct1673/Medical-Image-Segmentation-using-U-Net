{
  "nbformat": 4,
  "nbformat_minor": 0,
  "metadata": {
    "colab": {
      "provenance": [],
      "gpuType": "T4"
    },
    "kernelspec": {
      "name": "python3",
      "display_name": "Python 3"
    },
    "language_info": {
      "name": "python"
    },
    "accelerator": "GPU"
  },
  "cells": [
    {
      "cell_type": "code",
      "execution_count": 1,
      "metadata": {
        "colab": {
          "base_uri": "https://localhost:8080/"
        },
        "id": "EJ4Nf94a36fV",
        "outputId": "75a625b4-12b1-4456-9f25-f2a18ba57e32"
      },
      "outputs": [
        {
          "output_type": "stream",
          "name": "stdout",
          "text": [
            "Mounted at /content/drive\n"
          ]
        }
      ],
      "source": [
        "from google.colab import drive\n",
        "drive.mount('/content/drive')"
      ]
    },
    {
      "cell_type": "markdown",
      "source": [
        "<h1>Training</h1>"
      ],
      "metadata": {
        "id": "B6l49mAu4tNL"
      }
    },
    {
      "cell_type": "code",
      "source": [
        "# Define function to perform image rotation with 90 or 180 deg.\n",
        "def img_rotation(image, x):\n",
        "    return image.rotate(x)\n",
        "\n",
        "# Define function to flip the image horizontally.\n",
        "def img_flip_ll(image):\n",
        "    return image.transpose(Image.FLIP_LEFT_RIGHT)\n",
        "\n",
        "# Define function to flip the image vertically.\n",
        "def img_flip_ud(image):\n",
        "    return image.transpose(Image.FLIP_TOP_BOTTOM)"
      ],
      "metadata": {
        "id": "S7VdstLb4dRs"
      },
      "execution_count": 4,
      "outputs": []
    },
    {
      "cell_type": "code",
      "source": [
        "from PIL import Image\n",
        "import os\n",
        "\n",
        "# Define the path to the folder containing the images\n",
        "input_folder = '/content/drive/My Drive/DSBA data/DSBA_S3/Deep Learning/kvasir_data/images'\n",
        "output_folder = '/content/drive/My Drive/DSBA data/DSBA_S3/Deep Learning/kvasir_test/aug_images'\n",
        "\n",
        "\n",
        "# Create output directories if they don't exist\n",
        "os.makedirs(output_folder, exist_ok=True)\n",
        "\n",
        "# Iterate over all files in the input folder\n",
        "for filename in os.listdir(input_folder):\n",
        "    if filename.endswith('.jpg'):  # Assuming the images are in JPG format\n",
        "        # Construct the full file path\n",
        "        file_path = os.path.join(input_folder, filename)\n",
        "\n",
        "        # Open the image\n",
        "        image = Image.open(file_path)\n",
        "        img_1000 = image.resize((256, 256))\n",
        "        img_1000_90 = img_rotation(img_1000, 90)\n",
        "        img_1000_180 = img_rotation(img_1000, 180)\n",
        "        img_1000_270 = img_rotation(img_1000, 270)\n",
        "\n",
        "        # Flip the image vertically\n",
        "        img_0100 = img_flip_ud(img_1000)\n",
        "        img_0100_90 = img_rotation(img_0100, 90)\n",
        "        img_0100_180 = img_rotation(img_0100, 180)\n",
        "        img_0100_270 = img_rotation(img_0100, 270)\n",
        "\n",
        "        # Flip the image horizontally\n",
        "        img_1010 = img_flip_ll(img_1000)\n",
        "        img_1010_90 = img_rotation(img_1010, 90)\n",
        "        img_1010_180 = img_rotation(img_1010, 180)\n",
        "        img_1010_270 = img_rotation(img_1010, 270)\n",
        "\n",
        "        # Flip the image horizontally\n",
        "        img_0101 = img_flip_ll(img_0100)\n",
        "        img_0101_90 = img_rotation(img_0101, 90)\n",
        "        img_0101_180 = img_rotation(img_0101, 180)\n",
        "        img_0101_270 = img_rotation(img_0101, 270)\n",
        "\n",
        "        # Save the cropped images to the respective output folders\n",
        "        img_1000.save(os.path.join(output_folder, '1000_' + filename ))\n",
        "        img_1000_90.save(os.path.join(output_folder, '1000_90' + filename))\n",
        "        img_1000_180.save(os.path.join(output_folder, '1000_180' + filename))\n",
        "        img_1000_270.save(os.path.join(output_folder, '1000_270' + filename))\n",
        "\n",
        "        img_0100.save(os.path.join(output_folder, '0100_' + filename ))\n",
        "        img_0100_90.save(os.path.join(output_folder, '0100_90' + filename))\n",
        "        img_0100_180.save(os.path.join(output_folder, '0100_180' + filename))\n",
        "        img_0100_270.save(os.path.join(output_folder, '0100_270' + filename))\n",
        "\n",
        "        img_1010.save(os.path.join(output_folder, '1010_' + filename ))\n",
        "        img_1010_90.save(os.path.join(output_folder, '1010_90' + filename))\n",
        "        img_1010_180.save(os.path.join(output_folder, '1010_180' + filename))\n",
        "        img_1010_270.save(os.path.join(output_folder, '1010_270' + filename))\n",
        "\n",
        "        img_0101.save(os.path.join(output_folder, '0101_' + filename ))\n",
        "        img_0101_90.save(os.path.join(output_folder, '0101_90' + filename))\n",
        "        img_0101_180.save(os.path.join(output_folder, '0101_180' + filename))\n",
        "        img_0101_270.save(os.path.join(output_folder, '0101_270' + filename))"
      ],
      "metadata": {
        "id": "lzV611zv5Y3-"
      },
      "execution_count": 8,
      "outputs": []
    },
    {
      "cell_type": "markdown",
      "source": [
        "<h1>Mask Dataset</h1>"
      ],
      "metadata": {
        "id": "GJMPzreb9v4k"
      }
    },
    {
      "cell_type": "code",
      "source": [
        "from PIL import Image\n",
        "import os\n",
        "\n",
        "# Define the path to the folder containing the images\n",
        "input_folder = '/content/drive/My Drive/DSBA data/DSBA_S3/Deep Learning/kvasir_data/masks'\n",
        "output_folder = '/content/drive/My Drive/DSBA data/DSBA_S3/Deep Learning/kvasir_test/aug_masks'\n",
        "\n",
        "\n",
        "# Create output directories if they don't exist\n",
        "os.makedirs(output_folder, exist_ok=True)\n",
        "\n",
        "# Iterate over all files in the input folder\n",
        "for filename in os.listdir(input_folder):\n",
        "    if filename.endswith('.jpg'):  # Assuming the images are in JPG format\n",
        "        # Construct the full file path\n",
        "        file_path = os.path.join(input_folder, filename)\n",
        "\n",
        "        # Open the image\n",
        "        image = Image.open(file_path)\n",
        "        img_1000 = image.resize((256, 256))\n",
        "        img_1000_90 = img_rotation(img_1000, 90)\n",
        "        img_1000_180 = img_rotation(img_1000, 180)\n",
        "        img_1000_270 = img_rotation(img_1000, 270)\n",
        "\n",
        "        # Flip the image vertically\n",
        "        img_0100 = img_flip_ud(img_1000)\n",
        "        img_0100_90 = img_rotation(img_0100, 90)\n",
        "        img_0100_180 = img_rotation(img_0100, 180)\n",
        "        img_0100_270 = img_rotation(img_0100, 270)\n",
        "\n",
        "        # Flip the image horizontally\n",
        "        img_1010 = img_flip_ll(img_1000)\n",
        "        img_1010_90 = img_rotation(img_1010, 90)\n",
        "        img_1010_180 = img_rotation(img_1010, 180)\n",
        "        img_1010_270 = img_rotation(img_1010, 270)\n",
        "\n",
        "        # Flip the image horizontally\n",
        "        img_0101 = img_flip_ll(img_0100)\n",
        "        img_0101_90 = img_rotation(img_0101, 90)\n",
        "        img_0101_180 = img_rotation(img_0101, 180)\n",
        "        img_0101_270 = img_rotation(img_0101, 270)\n",
        "\n",
        "        # Save the cropped images to the respective output folders\n",
        "        img_1000.save(os.path.join(output_folder, '1000_' + filename ))\n",
        "        img_1000_90.save(os.path.join(output_folder, '1000_90' + filename))\n",
        "        img_1000_180.save(os.path.join(output_folder, '1000_180' + filename))\n",
        "        img_1000_270.save(os.path.join(output_folder, '1000_270' + filename))\n",
        "\n",
        "        img_0100.save(os.path.join(output_folder, '0100_' + filename ))\n",
        "        img_0100_90.save(os.path.join(output_folder, '0100_90' + filename))\n",
        "        img_0100_180.save(os.path.join(output_folder, '0100_180' + filename))\n",
        "        img_0100_270.save(os.path.join(output_folder, '0100_270' + filename))\n",
        "\n",
        "        img_1010.save(os.path.join(output_folder, '1010_' + filename ))\n",
        "        img_1010_90.save(os.path.join(output_folder, '1010_90' + filename))\n",
        "        img_1010_180.save(os.path.join(output_folder, '1010_180' + filename))\n",
        "        img_1010_270.save(os.path.join(output_folder, '1010_270' + filename))\n",
        "\n",
        "        img_0101.save(os.path.join(output_folder, '0101_' + filename ))\n",
        "        img_0101_90.save(os.path.join(output_folder, '0101_90' + filename))\n",
        "        img_0101_180.save(os.path.join(output_folder, '0101_180' + filename))\n",
        "        img_0101_270.save(os.path.join(output_folder, '0101_270' + filename))"
      ],
      "metadata": {
        "id": "C8JjZIIh9zuv"
      },
      "execution_count": 10,
      "outputs": []
    }
  ]
}